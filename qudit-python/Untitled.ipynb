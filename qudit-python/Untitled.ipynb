{
 "cells": [
  {
   "cell_type": "code",
   "execution_count": 1,
   "id": "e54409fb-2a6a-443c-88fb-5b01eefd454e",
   "metadata": {},
   "outputs": [
    {
     "name": "stdout",
     "output_type": "stream",
     "text": [
      "Registering a func\n"
     ]
    }
   ],
   "source": [
    "import openqudit"
   ]
  },
  {
   "cell_type": "code",
   "execution_count": 2,
   "id": "cc91b095-d8eb-4481-bbfb-154e5863e735",
   "metadata": {},
   "outputs": [],
   "source": [
    "from openqudit import circuit"
   ]
  },
  {
   "cell_type": "code",
   "execution_count": 3,
   "id": "0e849525-46ab-4046-8d4b-b98957372431",
   "metadata": {},
   "outputs": [],
   "source": [
    "from openqudit.circuit import Wire"
   ]
  },
  {
   "cell_type": "code",
   "execution_count": 4,
   "id": "e35b66fc-7a80-45a8-b9ac-76ce670ee310",
   "metadata": {},
   "outputs": [
    {
     "name": "stdout",
     "output_type": "stream",
     "text": [
      "c5\n"
     ]
    }
   ],
   "source": [
    "print(Wire.classical(5))"
   ]
  },
  {
   "cell_type": "code",
   "execution_count": null,
   "id": "d8834cb2-48c7-4977-9242-643ba78524fd",
   "metadata": {},
   "outputs": [],
   "source": [
    "from openqudit import QuditCircuit\n",
    "qc = QuditCircuit(4)"
   ]
  },
  {
   "cell_type": "code",
   "execution_count": null,
   "id": "e5afe2b0-0748-4d3d-a80c-def4c1c23e29",
   "metadata": {},
   "outputs": [],
   "source": [
    "from openqudit.library import XGate"
   ]
  },
  {
   "cell_type": "code",
   "execution_count": null,
   "id": "22a6d705-9fca-4731-90df-83e1953ef27a",
   "metadata": {},
   "outputs": [],
   "source": [
    "# Adding operations\n",
    "\n",
    "x = XGate()"
   ]
  },
  {
   "cell_type": "code",
   "execution_count": null,
   "id": "47ef8fe7-8879-44e7-88ba-292de040c3bc",
   "metadata": {},
   "outputs": [],
   "source": [
    "print(x)\n",
    "print(type(XGate))\n",
    "print(type(x))"
   ]
  },
  {
   "cell_type": "code",
   "execution_count": null,
   "id": "e74e319c-fca1-489b-afd4-4900658956ef",
   "metadata": {},
   "outputs": [],
   "source": [
    "qc.append(x, 0)"
   ]
  },
  {
   "cell_type": "code",
   "execution_count": null,
   "id": "c6221156-0070-4372-88d3-1d5768d75df9",
   "metadata": {},
   "outputs": [],
   "source": [
    "print(qc.is_empty)\n",
    "print(qc.num_cycles)\n",
    "print(qc.num_operations)"
   ]
  },
  {
   "cell_type": "code",
   "execution_count": null,
   "id": "9ad710d2-5dc4-4c2b-b3aa-fcaeb88f043a",
   "metadata": {},
   "outputs": [],
   "source": [
    "from openqudit.library import ParameterizedUnitary\n",
    "\n",
    "u  = ParameterizedUnitary()"
   ]
  },
  {
   "cell_type": "code",
   "execution_count": null,
   "id": "653a6824-e641-434a-bb56-b4366110d558",
   "metadata": {},
   "outputs": [],
   "source": [
    "u(1.7, 1.7, 1.7)"
   ]
  },
  {
   "cell_type": "code",
   "execution_count": null,
   "id": "ae0c1a49-2f3a-4875-ad34-fa43da2e44d2",
   "metadata": {},
   "outputs": [],
   "source": [
    "# parameterized operations\n",
    "from openqudit.library import ParameterizedUnitary\n",
    "\n",
    "u  = ParameterizedUnitary()\n",
    "print(u.num_params())\n",
    "qc = QuditCircuit(4)\n",
    "inst_id = qc.append(u, 1)\n",
    "print(qc.num_params)\n",
    "\n",
    "# qc.params = [\"unnamed_0\", \"unnamed_1\", \"unnamed_2\"]\n",
    "# qc.params = [\"unnamed_0\", \"unnamed_1\", \"unnamed_2\", \"a\", \"b\", \"c\"]\n",
    "\n",
    "qc.append(u, 2, [\"a\", \"b\", \"c\"])\n",
    "print(qc.num_params)\n",
    "\n",
    "qc.append(u, 3, [\"a\", None, None])\n",
    "print(qc.num_params)\n",
    "qc.append(u, 3, [\"a\", \"a\", \"a\"])\n",
    "print(qc.num_params)\n",
    "qc.append(u, 3, [0.25, \"b/2\", \"a*c\"])\n",
    "print(qc.num_params)\n",
    "# qc.append(u, 3, [\"unnamed_0\", \"a\", \"a\"])\n",
    "print(qc.num_params)\n",
    "print(qc.num_cycles)\n",
    "print(qc.num_operations)"
   ]
  },
  {
   "cell_type": "code",
   "execution_count": null,
   "id": "90add62a-7f2e-4012-9011-2b15b0432b43",
   "metadata": {},
   "outputs": [],
   "source": [
    "# defining new operations\n",
    "from openqudit.expressions import UnitaryExpression\n",
    "\n",
    "identity = UnitaryExpression(\"\"\"\n",
    "    U1(alpha) {[\n",
    "        [1, 0],\n",
    "        [0, e^(i*alpha)]\n",
    "    ]}\n",
    "\"\"\")\n",
    "qc.append(identity, 0)"
   ]
  },
  {
   "cell_type": "code",
   "execution_count": null,
   "id": "d28eddfc-33b2-4b63-8fb6-4c8eb7470c2d",
   "metadata": {},
   "outputs": [],
   "source": [
    "# Dynamic circuits\n",
    "from openqudit.library import HGate, Controlled, ZGate, ClassicalControl\n",
    "H = HGate()\n",
    "X = XGate()\n",
    "Z = ZGate()\n",
    "CX = Controlled(X)\n",
    "ClassicalControlledX = ClassicalControl(X)\n",
    "ClassicalControlledZ = ClassicalControl(Z)\n",
    "\n",
    "zero_ket = KetExpression(\"\"\"\n",
    "    Zero() {[\n",
    "        [1],\n",
    "        [0]\n",
    "    ]}\n",
    "\"\"\")\n",
    "\n",
    "long_range_cx = QuditCircuit(4, 2)\n",
    "long_range_cx.zero_initialize(1, 2)\n",
    "long_range_cx.append(H, 1)\n",
    "long_range_cx.append(CX, (1, 2))\n",
    "long_range_cx.append(CX, (0, 1))\n",
    "long_range_cx.append(CX, (2, 3))\n",
    "long_range_cx.append(H, 2)\n",
    "long_range_cx.z_measure((1, 2), (0, 1))\n",
    "long_range_cx.append(ClassicalControlledX, ([3], [0]))\n",
    "long_range_cx.append(ClassicalControlledZ, (0, 1))\n",
    "print(long_range_cx.kraus_ops().get_distance_from(CX))"
   ]
  },
  {
   "cell_type": "code",
   "execution_count": null,
   "id": "04b3f51f-6dcf-412c-b60a-023e242f0a1a",
   "metadata": {},
   "outputs": [],
   "source": [
    "# Partitioning\n",
    "inst_ids = []\n",
    "for inst_id, inst_ref in long_range_cx:\n",
    "    if inst_ref.op() == H:\n",
    "        inst_ids.append(inst_id)\n",
    "    elif inst_ref.op() == CX:\n",
    "        inst_ids.append(inst_id)\n",
    "subcircuit = long_range_cx.form_partition(inst_ids)\n",
    "\n",
    "partitioned_circuit = QuditCircuit(4)\n",
    "partitioned_circuit.append(subcircuit, (0, 1, 2, 3))"
   ]
  },
  {
   "cell_type": "code",
   "execution_count": null,
   "id": "3914de68-2b06-4b18-b7d5-2ebc81bfe595",
   "metadata": {},
   "outputs": [],
   "source": []
  }
 ],
 "metadata": {
  "kernelspec": {
   "display_name": "Python 3 (ipykernel)",
   "language": "python",
   "name": "python3"
  },
  "language_info": {
   "codemirror_mode": {
    "name": "ipython",
    "version": 3
   },
   "file_extension": ".py",
   "mimetype": "text/x-python",
   "name": "python",
   "nbconvert_exporter": "python",
   "pygments_lexer": "ipython3",
   "version": "3.13.7"
  }
 },
 "nbformat": 4,
 "nbformat_minor": 5
}
