{
 "cells": [
  {
   "cell_type": "code",
   "execution_count": 1,
   "id": "e54409fb-2a6a-443c-88fb-5b01eefd454e",
   "metadata": {},
   "outputs": [],
   "source": [
    "import openqudit"
   ]
  },
  {
   "cell_type": "code",
   "execution_count": 2,
   "id": "cc91b095-d8eb-4481-bbfb-154e5863e735",
   "metadata": {},
   "outputs": [],
   "source": [
    "from openqudit import circuit"
   ]
  },
  {
   "cell_type": "code",
   "execution_count": 3,
   "id": "0e849525-46ab-4046-8d4b-b98957372431",
   "metadata": {},
   "outputs": [],
   "source": [
    "from openqudit.circuit import Wire"
   ]
  },
  {
   "cell_type": "code",
   "execution_count": 4,
   "id": "e35b66fc-7a80-45a8-b9ac-76ce670ee310",
   "metadata": {},
   "outputs": [
    {
     "name": "stdout",
     "output_type": "stream",
     "text": [
      "c5\n"
     ]
    }
   ],
   "source": [
    "print(Wire.classical(5))"
   ]
  },
  {
   "cell_type": "code",
   "execution_count": 5,
   "id": "d8834cb2-48c7-4977-9242-643ba78524fd",
   "metadata": {},
   "outputs": [],
   "source": [
    "from openqudit.circuit import QuditCircuit\n",
    "qc = QuditCircuit(4)"
   ]
  },
  {
   "cell_type": "code",
   "execution_count": 6,
   "id": "e5afe2b0-0748-4d3d-a80c-def4c1c23e29",
   "metadata": {},
   "outputs": [],
   "source": [
    "from openqudit.expressions import XGate"
   ]
  },
  {
   "cell_type": "code",
   "execution_count": 7,
   "id": "22a6d705-9fca-4731-90df-83e1953ef27a",
   "metadata": {},
   "outputs": [],
   "source": [
    "# Adding operations\n",
    "\n",
    "x = XGate()"
   ]
  },
  {
   "cell_type": "code",
   "execution_count": 8,
   "id": "47ef8fe7-8879-44e7-88ba-292de040c3bc",
   "metadata": {},
   "outputs": [
    {
     "name": "stdout",
     "output_type": "stream",
     "text": [
      "UnitaryExpression(name='X', radices=[2], params=0)\n",
      "<class 'builtin_function_or_method'>\n",
      "<class 'builtins.UnitaryExpression'>\n"
     ]
    }
   ],
   "source": [
    "print(x)\n",
    "print(type(XGate))\n",
    "print(type(x))"
   ]
  },
  {
   "cell_type": "code",
   "execution_count": 9,
   "id": "e74e319c-fca1-489b-afd4-4900658956ef",
   "metadata": {},
   "outputs": [],
   "source": [
    "qc.append(x, 0)"
   ]
  },
  {
   "cell_type": "code",
   "execution_count": 10,
   "id": "c6221156-0070-4372-88d3-1d5768d75df9",
   "metadata": {},
   "outputs": [
    {
     "name": "stdout",
     "output_type": "stream",
     "text": [
      "False\n",
      "1\n",
      "1\n"
     ]
    }
   ],
   "source": [
    "print(qc.is_empty)\n",
    "print(qc.num_cycles)\n",
    "print(qc.num_operations)"
   ]
  },
  {
   "cell_type": "code",
   "execution_count": 11,
   "id": "9ad710d2-5dc4-4c2b-b3aa-fcaeb88f043a",
   "metadata": {},
   "outputs": [],
   "source": [
    "from openqudit.expressions import ParameterizedUnitary\n",
    "\n",
    "u = ParameterizedUnitary()"
   ]
  },
  {
   "cell_type": "code",
   "execution_count": 12,
   "id": "653a6824-e641-434a-bb56-b4366110d558",
   "metadata": {},
   "outputs": [
    {
     "data": {
      "text/plain": [
       "array([[ 0.65998315+0.j        ,  0.09679834-0.74501834j],\n",
       "       [-0.09679834+0.74501834j, -0.63807051-0.16865282j]])"
      ]
     },
     "execution_count": 12,
     "metadata": {},
     "output_type": "execute_result"
    }
   ],
   "source": [
    "u(1.7, 1.7, 1.7)"
   ]
  },
  {
   "cell_type": "code",
   "execution_count": 13,
   "id": "ae0c1a49-2f3a-4875-ad34-fa43da2e44d2",
   "metadata": {},
   "outputs": [
    {
     "name": "stdout",
     "output_type": "stream",
     "text": [
      "3\n",
      "3\n",
      "6\n",
      "8\n",
      "8\n",
      "9\n",
      "9\n",
      "4\n",
      "6\n"
     ]
    }
   ],
   "source": [
    "# parameterized operations\n",
    "from openqudit.expressions import ParameterizedUnitary\n",
    "\n",
    "u  = ParameterizedUnitary()\n",
    "print(u.num_params())\n",
    "\n",
    "qc = QuditCircuit(4)\n",
    "inst_id = qc.append(u, 1)\n",
    "\n",
    "print(qc.num_params)\n",
    "qc.append(u, 2, [\"a\", \"b\", \"c\"])\n",
    "\n",
    "print(qc.num_params)\n",
    "qc.append(u, 3, [\"a\", None, None])\n",
    "\n",
    "print(qc.num_params)\n",
    "qc.append(u, 3, [\"a\", \"a\", \"a\"])\n",
    "\n",
    "print(qc.num_params)\n",
    "qc.append(u, 3, [0.25, \"b/2\", \"a*c\"])\n",
    "\n",
    "print(qc.num_params)\n",
    "qc.append(u, 3, [\"param_0\", \"param_1\", \"param_2\"])\n",
    "\n",
    "print(qc.num_params)\n",
    "print(qc.num_cycles)\n",
    "print(qc.num_operations)"
   ]
  },
  {
   "cell_type": "code",
   "execution_count": 14,
   "id": "90add62a-7f2e-4012-9011-2b15b0432b43",
   "metadata": {},
   "outputs": [
    {
     "name": "stdout",
     "output_type": "stream",
     "text": [
      "UnitaryExpression(name='U1', radices=[2], params=1)\n",
      "10\n",
      "4\n",
      "7\n"
     ]
    }
   ],
   "source": [
    "# defining new operations\n",
    "from openqudit.expressions import UnitaryExpression\n",
    "\n",
    "rot = UnitaryExpression(\"\"\"\n",
    "    U1(alpha) {[\n",
    "        [1, 0],\n",
    "        [0, e^(i*alpha)]\n",
    "    ]}\n",
    "\"\"\")\n",
    "print(rot)\n",
    "qc.append(rot, 0)\n",
    "print(qc.num_params)\n",
    "print(qc.num_cycles)\n",
    "print(qc.num_operations)"
   ]
  },
  {
   "cell_type": "code",
   "execution_count": 15,
   "id": "d28eddfc-33b2-4b63-8fb6-4c8eb7470c2d",
   "metadata": {},
   "outputs": [
    {
     "name": "stdout",
     "output_type": "stream",
     "text": [
      "[[[ 0.5+0.j  0. +0.j  0. +0.j  0. +0.j]\n",
      "  [ 0. +0.j  0.5+0.j  0. +0.j  0. +0.j]\n",
      "  [ 0. +0.j  0. +0.j  0. +0.j  0.5+0.j]\n",
      "  [ 0. +0.j  0. +0.j  0.5+0.j  0. +0.j]]\n",
      "\n",
      " [[ 0.5+0.j  0. +0.j  0. +0.j  0. +0.j]\n",
      "  [ 0. +0.j  0.5+0.j  0. +0.j  0. +0.j]\n",
      "  [ 0. +0.j  0. +0.j  0. +0.j  0.5+0.j]\n",
      "  [ 0. +0.j  0. +0.j  0.5+0.j  0. +0.j]]\n",
      "\n",
      " [[ 0.5+0.j  0. +0.j  0. +0.j  0. +0.j]\n",
      "  [ 0. +0.j  0.5+0.j  0. +0.j  0. +0.j]\n",
      "  [ 0. +0.j  0. +0.j  0. +0.j  0.5+0.j]\n",
      "  [ 0. +0.j  0. +0.j  0.5+0.j  0. +0.j]]\n",
      "\n",
      " [[-0.5+0.j  0. +0.j  0. +0.j  0. +0.j]\n",
      "  [ 0. +0.j -0.5+0.j  0. +0.j  0. +0.j]\n",
      "  [ 0. +0.j  0. +0.j  0. +0.j -0.5+0.j]\n",
      "  [ 0. +0.j  0. +0.j -0.5+0.j  0. +0.j]]]\n"
     ]
    }
   ],
   "source": [
    "# Dynamic circuits\n",
    "from openqudit.expressions import HGate, Controlled, ZGate, ClassicallyControlled, KetExpression, ZMeasurement\n",
    "H = HGate()\n",
    "X = XGate()\n",
    "Z = ZGate()\n",
    "CX = Controlled(X)\n",
    "ClX = ClassicallyControlled(X)\n",
    "ClZ = ClassicallyControlled(Z)\n",
    "Z_M = ZMeasurement()\n",
    "\n",
    "zero_ket = KetExpression(\"\"\"\n",
    "    Zero() {[\n",
    "        [1],\n",
    "        [0]\n",
    "    ]}\n",
    "\"\"\")\n",
    "\n",
    "long_range_cx = QuditCircuit(4, 2)\n",
    "long_range_cx.append(zero_ket, 1)\n",
    "long_range_cx.append(zero_ket, 2)\n",
    "long_range_cx.append(H, 1)\n",
    "long_range_cx.append(CX, (1, 2))\n",
    "long_range_cx.append(CX, (0, 1))\n",
    "long_range_cx.append(CX, (2, 3))\n",
    "long_range_cx.append(H, 2)\n",
    "long_range_cx.append(Z_M, (1, 0))\n",
    "long_range_cx.append(Z_M, (2, 1))\n",
    "long_range_cx.append(ClX, ([3], [0]))\n",
    "long_range_cx.append(ClZ, (0, 1))\n",
    "print(long_range_cx.kraus_ops())"
   ]
  },
  {
   "cell_type": "code",
   "execution_count": 16,
   "id": "2e970b3c-bba9-464a-b434-a6d7bd8da93d",
   "metadata": {},
   "outputs": [],
   "source": [
    "from openqudit.instantiation import InstantiationResult"
   ]
  },
  {
   "cell_type": "code",
   "execution_count": 17,
   "id": "5c467fea-d193-48bd-8d6c-057bd117c279",
   "metadata": {},
   "outputs": [
    {
     "name": "stdout",
     "output_type": "stream",
     "text": [
      "3.330325529766542e-15\n",
      "[[[ 0.846+0.533j  0.   +0.j    -0.   -0.j     0.   -0.j     0.   +0.j    -0.   -0.j    -0.   +0.j    -0.   +0.j   ]\n",
      "  [-0.   -0.j     0.846+0.533j  0.   +0.j    -0.   -0.j     0.   +0.j     0.   +0.j    -0.   +0.j     0.   -0.j   ]\n",
      "  [ 0.   -0.j     0.   +0.j     0.846+0.533j  0.   +0.j    -0.   +0.j     0.   -0.j    -0.   +0.j    -0.   +0.j   ]\n",
      "  [-0.   +0.j     0.   -0.j    -0.   -0.j     0.846+0.533j -0.   +0.j    -0.   +0.j    -0.   +0.j     0.   -0.j   ]\n",
      "  [ 0.   +0.j     0.   +0.j     0.   +0.j    -0.   +0.j     0.846+0.533j -0.   -0.j     0.   -0.j     0.   -0.j   ]\n",
      "  [-0.   -0.j     0.   +0.j    -0.   -0.j     0.   +0.j     0.   +0.j     0.846+0.533j  0.   -0.j    -0.   -0.j   ]\n",
      "  [ 0.   +0.j    -0.   +0.j     0.   -0.j     0.   -0.j    -0.   -0.j     0.   +0.j     0.   +0.j     0.846+0.533j]\n",
      "  [-0.   -0.j     0.   +0.j    -0.   +0.j     0.   -0.j    -0.   -0.j    -0.   -0.j     0.846+0.533j -0.   -0.j   ]]]\n"
     ]
    }
   ],
   "source": [
    "# Instantiation\n",
    "import numpy as np\n",
    "from openqudit.circuit import QuditCircuit\n",
    "from openqudit.expressions import ParameterizedUnitary\n",
    "from openqudit.instantiation import DefaultInstantiater\n",
    "\n",
    "toffoli_target = np.array([\n",
    "    [1, 0, 0, 0, 0, 0, 0, 0],\n",
    "    [0, 1, 0, 0, 0, 0, 0, 0],\n",
    "    [0, 0, 1, 0, 0, 0, 0, 0],\n",
    "    [0, 0, 0, 1, 0, 0, 0, 0],\n",
    "    [0, 0, 0, 0, 1, 0, 0, 0],\n",
    "    [0, 0, 0, 0, 0, 1, 0, 0],\n",
    "    [0, 0, 0, 0, 0, 0, 0, 1],\n",
    "    [0, 0, 0, 0, 0, 0, 1, 0],\n",
    "], dtype = np.complex128)\n",
    "\n",
    "# two_qubit_generic = ParameterizedUnitary([2, 2])\n",
    "\n",
    "# qc = QuditCircuit(3)\n",
    "# qc.append(two_qubit_generic, (0, 1))\n",
    "# qc.append(two_qubit_generic, (1, 2))\n",
    "# qc.append(two_qubit_generic, (0, 1))\n",
    "# qc.append(two_qubit_generic, (1, 2))\n",
    "# qc.append(two_qubit_generic, (0, 1))\n",
    "\n",
    "U = ParameterizedUnitary()\n",
    "\n",
    "qc = QuditCircuit(3)\n",
    "qc.append(U, 2)\n",
    "qc.append(CX, (1, 2))\n",
    "qc.append(U, 2)\n",
    "qc.append(CX, (0, 2))\n",
    "qc.append(U, 2)\n",
    "qc.append(CX, (1, 2))\n",
    "qc.append(U, 2)\n",
    "qc.append(CX, (0, 2))\n",
    "qc.append(U, 1)\n",
    "qc.append(U, 2)\n",
    "qc.append(CX, (0, 1))\n",
    "qc.append(U, 0)\n",
    "qc.append(U, 1)\n",
    "qc.append(CX, (0, 1))\n",
    "\n",
    "result = DefaultInstantiater().instantiate(qc, toffoli_target)\n",
    "print(result.fun)\n",
    "with np.printoptions(precision=3, suppress=True, linewidth=500):\n",
    "    print(qc.kraus_ops(result.params))"
   ]
  },
  {
   "cell_type": "code",
   "execution_count": 18,
   "id": "d0e58c23-6551-4e68-ae2c-8e506a105f92",
   "metadata": {},
   "outputs": [
    {
     "name": "stdout",
     "output_type": "stream",
     "text": [
      "1.7274323288767808e-16\n",
      "[[[ 0.5 +0.j     0.  +0.j     0.  +0.j     0.  +0.j   ]\n",
      "  [ 0.  +0.j     0.5 +0.j     0.  +0.j     0.  +0.j   ]\n",
      "  [ 0.  +0.j     0.  +0.j     0.  +0.j     0.5 -0.j   ]\n",
      "  [ 0.  +0.j     0.  +0.j     0.5 -0.j     0.  +0.j   ]]\n",
      "\n",
      " [[-0.05-0.497j  0.  +0.j     0.  +0.j     0.  +0.j   ]\n",
      "  [ 0.  +0.j    -0.05-0.497j  0.  +0.j     0.  +0.j   ]\n",
      "  [ 0.  +0.j     0.  +0.j     0.  +0.j    -0.05-0.497j]\n",
      "  [ 0.  +0.j     0.  +0.j    -0.05-0.497j  0.  +0.j   ]]\n",
      "\n",
      " [[ 0.5 -0.j     0.  +0.j     0.  +0.j     0.  +0.j   ]\n",
      "  [ 0.  +0.j     0.5 -0.j     0.  +0.j     0.  +0.j   ]\n",
      "  [ 0.  +0.j     0.  +0.j     0.  +0.j     0.5 +0.j   ]\n",
      "  [ 0.  +0.j     0.  +0.j     0.5 +0.j     0.  +0.j   ]]\n",
      "\n",
      " [[ 0.05+0.497j  0.  +0.j     0.  +0.j     0.  +0.j   ]\n",
      "  [ 0.  +0.j     0.05+0.497j  0.  +0.j     0.  +0.j   ]\n",
      "  [ 0.  +0.j     0.  +0.j     0.  +0.j     0.05+0.497j]\n",
      "  [ 0.  +0.j     0.  +0.j     0.05+0.497j  0.  +0.j   ]]]\n"
     ]
    }
   ],
   "source": [
    "long_range_cx = QuditCircuit(4, 2)\n",
    "long_range_cx.append(zero_ket, 1)\n",
    "long_range_cx.append(zero_ket, 2)\n",
    "long_range_cx.append(U, 1)\n",
    "long_range_cx.append(CX, (1, 2))\n",
    "long_range_cx.append(CX, (0, 1))\n",
    "long_range_cx.append(CX, (2, 3))\n",
    "long_range_cx.append(U, 2)\n",
    "long_range_cx.append(Z_M, (1, 0))\n",
    "long_range_cx.append(Z_M, (2, 1))\n",
    "long_range_cx.append(ClX, ([3], [0]))\n",
    "long_range_cx.append(ClZ, (0, 1))\n",
    "\n",
    "result = DefaultInstantiater().instantiate(long_range_cx, CX())\n",
    "print(result.fun)\n",
    "with np.printoptions(precision=3, suppress=True, linewidth=500):\n",
    "    print(long_range_cx.kraus_ops(result.params))"
   ]
  },
  {
   "cell_type": "code",
   "execution_count": 19,
   "id": "04b3f51f-6dcf-412c-b60a-023e242f0a1a",
   "metadata": {},
   "outputs": [
    {
     "ename": "TypeError",
     "evalue": "'builtins.QuditCircuit' object is not iterable",
     "output_type": "error",
     "traceback": [
      "\u001b[31m---------------------------------------------------------------------------\u001b[39m",
      "\u001b[31mTypeError\u001b[39m                                 Traceback (most recent call last)",
      "\u001b[36mCell\u001b[39m\u001b[36m \u001b[39m\u001b[32mIn[19]\u001b[39m\u001b[32m, line 3\u001b[39m\n\u001b[32m      1\u001b[39m \u001b[38;5;66;03m# Partitioning\u001b[39;00m\n\u001b[32m      2\u001b[39m inst_ids = []\n\u001b[32m----> \u001b[39m\u001b[32m3\u001b[39m \u001b[38;5;28;43;01mfor\u001b[39;49;00m\u001b[43m \u001b[49m\u001b[43minst_id\u001b[49m\u001b[43m,\u001b[49m\u001b[43m \u001b[49m\u001b[43minst_ref\u001b[49m\u001b[43m \u001b[49m\u001b[38;5;129;43;01min\u001b[39;49;00m\u001b[43m \u001b[49m\u001b[43mlong_range_cx\u001b[49m\u001b[43m:\u001b[49m\n\u001b[32m      4\u001b[39m \u001b[43m    \u001b[49m\u001b[38;5;28;43;01mif\u001b[39;49;00m\u001b[43m \u001b[49m\u001b[43minst_ref\u001b[49m\u001b[43m.\u001b[49m\u001b[43mop\u001b[49m\u001b[43m(\u001b[49m\u001b[43m)\u001b[49m\u001b[43m \u001b[49m\u001b[43m==\u001b[49m\u001b[43m \u001b[49m\u001b[43mH\u001b[49m\u001b[43m:\u001b[49m\n\u001b[32m      5\u001b[39m \u001b[43m        \u001b[49m\u001b[43minst_ids\u001b[49m\u001b[43m.\u001b[49m\u001b[43mappend\u001b[49m\u001b[43m(\u001b[49m\u001b[43minst_id\u001b[49m\u001b[43m)\u001b[49m\n",
      "\u001b[31mTypeError\u001b[39m: 'builtins.QuditCircuit' object is not iterable"
     ]
    }
   ],
   "source": [
    "# Partitioning\n",
    "inst_ids = []\n",
    "for inst_id, inst_ref in long_range_cx:\n",
    "    if inst_ref.op() == H:\n",
    "        inst_ids.append(inst_id)\n",
    "    elif inst_ref.op() == CX:\n",
    "        inst_ids.append(inst_id)\n",
    "subcircuit = long_range_cx.form_partition(inst_ids)\n",
    "\n",
    "partitioned_circuit = QuditCircuit(4)\n",
    "partitioned_circuit.append(subcircuit, (0, 1, 2, 3))"
   ]
  },
  {
   "cell_type": "code",
   "execution_count": null,
   "id": "3914de68-2b06-4b18-b7d5-2ebc81bfe595",
   "metadata": {},
   "outputs": [],
   "source": []
  },
  {
   "cell_type": "code",
   "execution_count": null,
   "id": "251c910c-44d9-42ae-962b-1f8a3d91da3d",
   "metadata": {},
   "outputs": [],
   "source": []
  }
 ],
 "metadata": {
  "kernelspec": {
   "display_name": "Python 3 (ipykernel)",
   "language": "python",
   "name": "python3"
  },
  "language_info": {
   "codemirror_mode": {
    "name": "ipython",
    "version": 3
   },
   "file_extension": ".py",
   "mimetype": "text/x-python",
   "name": "python",
   "nbconvert_exporter": "python",
   "pygments_lexer": "ipython3",
   "version": "3.13.7"
  }
 },
 "nbformat": 4,
 "nbformat_minor": 5
}
